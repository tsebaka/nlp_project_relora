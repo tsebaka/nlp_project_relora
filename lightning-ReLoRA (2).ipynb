{
 "cells": [
  {
   "cell_type": "code",
   "execution_count": 8,
   "id": "20589bda-fe8c-4787-a40e-20004543aac3",
   "metadata": {},
   "outputs": [],
   "source": [
    "import sys\n",
    "import os\n",
    "sys.path.insert(0, \"/home/jovyan/.local/share/virtualenvs/ptls-experiments-w-dEu3oS/lib/python3.8/site-packages\")\n",
    "os.environ[\"OMP_NUM_THREADS\"] = \"4\"\n",
    "os.environ[\"TOKENIZERS_PARALLELISM\"] = \"false\""
   ]
  },
  {
   "cell_type": "code",
   "execution_count": 9,
   "id": "fbb084d3-5cfc-46a4-abb5-fd728a4bdb54",
   "metadata": {},
   "outputs": [],
   "source": [
    "import pandas as pd\n",
    "import numpy as np\n",
    "import sklearn\n",
    "import torch\n",
    "import lightning as L\n",
    "\n",
    "from sklearn.model_selection import train_test_split\n",
    "from peft import LoraConfig\n",
    "from src.modules.training_modules import ReloraModuleForClassification\n",
    "from src.dataset.dataset import EssayDataset\n",
    "from src.metric.metric import quadratic_weighted_kappa\n",
    "\n",
    "device = torch.device(\"cuda\" if torch.cuda.is_available() else \"cpu\")"
   ]
  },
  {
   "cell_type": "code",
   "execution_count": 10,
   "id": "4db44fa5-3c1b-4a20-b6bb-108307e691b7",
   "metadata": {},
   "outputs": [],
   "source": [
    "# dataset = pd.read_csv(\"src/data/titles_to_categories.csv\")\n",
    "# target_categories = [\n",
    "#     \"Sports & Outdoors\",\n",
    "#     \"Baby\",\n",
    "#     \"Men's Shoes\",\n",
    "#     \"Women's Handbags\",\n",
    "#     \"Women's Shoes\",\n",
    "#     \"Handmade Jewellery\",\n",
    "#     \"Men's Watches\",\n",
    "#     \"Boys\"\n",
    "# ]\n",
    "\n",
    "# filtered_dataset = dataset[dataset['category_name'].isin(target_categories)]\n",
    "\n",
    "# filtered_dataset['target'] = filtered_dataset['category_name'].apply(\n",
    "#     lambda x: 1 if x == \"Sports & Outdoors\" else 0\n",
    "# )\n",
    "\n",
    "# dataset = filtered_dataset"
   ]
  },
  {
   "cell_type": "code",
   "execution_count": 11,
   "id": "5df047b2-8a2b-480d-8265-7a691b1ca56f",
   "metadata": {},
   "outputs": [],
   "source": [
    "dataset = pd.read_csv(\"src/data/train.csv\")\n",
    "# dataset = filtered_dataset\n",
    "train_set, val_set = train_test_split(dataset, test_size=0.2, random_state=42)#, stratify=dataset[\"target\"])\n",
    "\n",
    "train_dataset = EssayDataset(_, train_set)\n",
    "eval_dataset = EssayDataset(_, val_set)"
   ]
  },
  {
   "cell_type": "markdown",
   "id": "f0134947-1eda-4576-9565-e09c5271770e",
   "metadata": {},
   "source": [
    "# Conf"
   ]
  },
  {
   "cell_type": "code",
   "execution_count": 12,
   "id": "ec89be0e-1705-40e0-868a-81a62fcc4887",
   "metadata": {},
   "outputs": [
    {
     "name": "stderr",
     "output_type": "stream",
     "text": [
      "Seed set to 234\n"
     ]
    }
   ],
   "source": [
    "project_name = \"ReLoRA\"\n",
    "dataset_shards = 1\n",
    "\n",
    "max_epochs = 10\n",
    "lora_merge_epochs = 1\n",
    "learning_rate = 1e-5\n",
    "max_steps = 1e5\n",
    "max_val_steps = 1e4\n",
    "\n",
    "L.seed_everything(234)\n",
    "torch.set_float32_matmul_precision(\"medium\")\n",
    "\n",
    "model_class = LlamaForSequenceClassificationmodel_path = \"philschmid/llama-2-7b-instruction-generator\"\n",
    "lora_config = LoraConfig(r=8, lora_alpha=16, lora_dropout=0.1, bias=\"none\", inference_mode=False)\n",
    "\n",
    "from transformers import AutoModelForSequenceClassification, AutoTokenizer\n",
    "model_class = AutoModelForSequenceClassification\n",
    "model_path = \"microsoft/deberta-v3-xsmall\"\n",
    "lora_config = LoraConfig(r=8, lora_alpha=16, lora_dropout=0.01, bias=\"none\", inference_mode=False)"
   ]
  },
  {
   "cell_type": "markdown",
   "id": "a6c0d143-e37e-4d06-a2fa-776df4e000fa",
   "metadata": {},
   "source": [
    "# Training"
   ]
  },
  {
   "cell_type": "code",
   "execution_count": null,
   "id": "29d9fb66-db2c-4c44-abf7-3a189df562eb",
   "metadata": {
    "collapsed": true,
    "jupyter": {
     "outputs_hidden": true
    },
    "tags": []
   },
   "outputs": [
    {
     "name": "stdout",
     "output_type": "stream",
     "text": [
      "70977793 147456 70830337\n"
     ]
    },
    {
     "name": "stderr",
     "output_type": "stream",
     "text": [
      "GPU available: True (cuda), used: True\n",
      "TPU available: False, using: 0 TPU cores\n",
      "IPU available: False, using: 0 IPUs\n",
      "HPU available: False, using: 0 HPUs\n",
      "LOCAL_RANK: 0 - CUDA_VISIBLE_DEVICES: [0]\n",
      "\n",
      "  | Name  | Type      | Params\n",
      "------------------------------------\n",
      "0 | model | PeftModel | 71.0 M\n",
      "1 | loss  | MSELoss   | 0     \n",
      "------------------------------------\n",
      "167 K     Trainable params\n",
      "70.8 M    Non-trainable params\n",
      "71.0 M    Total params\n",
      "283.911   Total estimated model params size (MB)\n"
     ]
    },
    {
     "name": "stdout",
     "output_type": "stream",
     "text": [
      "70977793 147456 70830337\n",
      "70977793 147456 70830337\n"
     ]
    },
    {
     "data": {
      "application/vnd.jupyter.widget-view+json": {
       "model_id": "",
       "version_major": 2,
       "version_minor": 0
      },
      "text/plain": [
       "Sanity Checking: |          | 0/? [00:00<?, ?it/s]"
      ]
     },
     "metadata": {},
     "output_type": "display_data"
    },
    {
     "data": {
      "application/vnd.jupyter.widget-view+json": {
       "model_id": "2b665333deaf44b7a3d46ea5a96b6462",
       "version_major": 2,
       "version_minor": 0
      },
      "text/plain": [
       "Training: |          | 0/? [00:00<?, ?it/s]"
      ]
     },
     "metadata": {},
     "output_type": "display_data"
    },
    {
     "data": {
      "application/vnd.jupyter.widget-view+json": {
       "model_id": "",
       "version_major": 2,
       "version_minor": 0
      },
      "text/plain": [
       "Validation: |          | 0/? [00:00<?, ?it/s]"
      ]
     },
     "metadata": {},
     "output_type": "display_data"
    },
    {
     "name": "stdout",
     "output_type": "stream",
     "text": [
      "====================\n",
      "70977793 147456 70830337\n",
      "70977793 147456 70830337\n"
     ]
    },
    {
     "data": {
      "application/vnd.jupyter.widget-view+json": {
       "model_id": "",
       "version_major": 2,
       "version_minor": 0
      },
      "text/plain": [
       "Validation: |          | 0/? [00:00<?, ?it/s]"
      ]
     },
     "metadata": {},
     "output_type": "display_data"
    },
    {
     "data": {
      "application/vnd.jupyter.widget-view+json": {
       "model_id": "",
       "version_major": 2,
       "version_minor": 0
      },
      "text/plain": [
       "Validation: |          | 0/? [00:00<?, ?it/s]"
      ]
     },
     "metadata": {},
     "output_type": "display_data"
    },
    {
     "data": {
      "application/vnd.jupyter.widget-view+json": {
       "model_id": "",
       "version_major": 2,
       "version_minor": 0
      },
      "text/plain": [
       "Validation: |          | 0/? [00:00<?, ?it/s]"
      ]
     },
     "metadata": {},
     "output_type": "display_data"
    },
    {
     "data": {
      "application/vnd.jupyter.widget-view+json": {
       "model_id": "",
       "version_major": 2,
       "version_minor": 0
      },
      "text/plain": [
       "Validation: |          | 0/? [00:00<?, ?it/s]"
      ]
     },
     "metadata": {},
     "output_type": "display_data"
    },
    {
     "data": {
      "application/vnd.jupyter.widget-view+json": {
       "model_id": "",
       "version_major": 2,
       "version_minor": 0
      },
      "text/plain": [
       "Validation: |          | 0/? [00:00<?, ?it/s]"
      ]
     },
     "metadata": {},
     "output_type": "display_data"
    },
    {
     "name": "stdout",
     "output_type": "stream",
     "text": [
      "====================\n",
      "70977793 147456 70830337\n",
      "70977793 147456 70830337\n"
     ]
    },
    {
     "data": {
      "application/vnd.jupyter.widget-view+json": {
       "model_id": "",
       "version_major": 2,
       "version_minor": 0
      },
      "text/plain": [
       "Validation: |          | 0/? [00:00<?, ?it/s]"
      ]
     },
     "metadata": {},
     "output_type": "display_data"
    },
    {
     "data": {
      "application/vnd.jupyter.widget-view+json": {
       "model_id": "",
       "version_major": 2,
       "version_minor": 0
      },
      "text/plain": [
       "Validation: |          | 0/? [00:00<?, ?it/s]"
      ]
     },
     "metadata": {},
     "output_type": "display_data"
    },
    {
     "data": {
      "application/vnd.jupyter.widget-view+json": {
       "model_id": "",
       "version_major": 2,
       "version_minor": 0
      },
      "text/plain": [
       "Validation: |          | 0/? [00:00<?, ?it/s]"
      ]
     },
     "metadata": {},
     "output_type": "display_data"
    },
    {
     "data": {
      "application/vnd.jupyter.widget-view+json": {
       "model_id": "",
       "version_major": 2,
       "version_minor": 0
      },
      "text/plain": [
       "Validation: |          | 0/? [00:00<?, ?it/s]"
      ]
     },
     "metadata": {},
     "output_type": "display_data"
    },
    {
     "data": {
      "application/vnd.jupyter.widget-view+json": {
       "model_id": "",
       "version_major": 2,
       "version_minor": 0
      },
      "text/plain": [
       "Validation: |          | 0/? [00:00<?, ?it/s]"
      ]
     },
     "metadata": {},
     "output_type": "display_data"
    },
    {
     "name": "stdout",
     "output_type": "stream",
     "text": [
      "====================\n",
      "70977793 147456 70830337\n",
      "70977793 147456 70830337\n"
     ]
    },
    {
     "data": {
      "application/vnd.jupyter.widget-view+json": {
       "model_id": "",
       "version_major": 2,
       "version_minor": 0
      },
      "text/plain": [
       "Validation: |          | 0/? [00:00<?, ?it/s]"
      ]
     },
     "metadata": {},
     "output_type": "display_data"
    },
    {
     "data": {
      "application/vnd.jupyter.widget-view+json": {
       "model_id": "",
       "version_major": 2,
       "version_minor": 0
      },
      "text/plain": [
       "Validation: |          | 0/? [00:00<?, ?it/s]"
      ]
     },
     "metadata": {},
     "output_type": "display_data"
    },
    {
     "data": {
      "application/vnd.jupyter.widget-view+json": {
       "model_id": "",
       "version_major": 2,
       "version_minor": 0
      },
      "text/plain": [
       "Validation: |          | 0/? [00:00<?, ?it/s]"
      ]
     },
     "metadata": {},
     "output_type": "display_data"
    },
    {
     "data": {
      "application/vnd.jupyter.widget-view+json": {
       "model_id": "",
       "version_major": 2,
       "version_minor": 0
      },
      "text/plain": [
       "Validation: |          | 0/? [00:00<?, ?it/s]"
      ]
     },
     "metadata": {},
     "output_type": "display_data"
    },
    {
     "data": {
      "application/vnd.jupyter.widget-view+json": {
       "model_id": "",
       "version_major": 2,
       "version_minor": 0
      },
      "text/plain": [
       "Validation: |          | 0/? [00:00<?, ?it/s]"
      ]
     },
     "metadata": {},
     "output_type": "display_data"
    },
    {
     "name": "stdout",
     "output_type": "stream",
     "text": [
      "====================\n",
      "70977793 147456 70830337\n",
      "70977793 147456 70830337\n"
     ]
    },
    {
     "data": {
      "application/vnd.jupyter.widget-view+json": {
       "model_id": "",
       "version_major": 2,
       "version_minor": 0
      },
      "text/plain": [
       "Validation: |          | 0/? [00:00<?, ?it/s]"
      ]
     },
     "metadata": {},
     "output_type": "display_data"
    }
   ],
   "source": [
    "model = ReloraModuleForClassification(model_class=model_class, model_path=model_path, lora_config=lora_config, lora_merge_freq=5,\n",
    "                                      train_dataset=train_dataset, eval_dataset=eval_dataset, learning_rate=learning_rate)\n",
    "\n",
    "trainer = L.Trainer(max_epochs=50, log_every_n_steps=1, \n",
    "                    limit_train_batches=1e5, limit_val_batches=1e4, reload_dataloaders_every_n_epochs=100)\n",
    "\n",
    "trainer.fit(model)"
   ]
  },
  {
   "cell_type": "code",
   "execution_count": 16,
   "id": "1933369e-1519-4f16-90ff-dd0c27141a3d",
   "metadata": {},
   "outputs": [
    {
     "data": {
      "application/vnd.jupyter.widget-view+json": {
       "model_id": "66117d56f9374d57b0a302a7ae1c2653",
       "version_major": 2,
       "version_minor": 0
      },
      "text/plain": [
       "  0%|          | 0/3462 [00:00<?, ?it/s]"
      ]
     },
     "metadata": {},
     "output_type": "display_data"
    },
    {
     "name": "stderr",
     "output_type": "stream",
     "text": [
      "/tmp/ipykernel_3241181/3770462044.py:8: UserWarning: To copy construct from a tensor, it is recommended to use sourceTensor.clone().detach() or sourceTensor.clone().detach().requires_grad_(True), rather than torch.tensor(sourceTensor).\n",
      "  input_ids = torch.tensor(eval_dataset[i][\"input_ids\"])\n",
      "/tmp/ipykernel_3241181/3770462044.py:9: UserWarning: To copy construct from a tensor, it is recommended to use sourceTensor.clone().detach() or sourceTensor.clone().detach().requires_grad_(True), rather than torch.tensor(sourceTensor).\n",
      "  attention_mask = torch.tensor(eval_dataset[i][\"attention_mask\"])\n"
     ]
    },
    {
     "data": {
      "text/plain": [
       "0.4995380203874842"
      ]
     },
     "execution_count": 16,
     "metadata": {},
     "output_type": "execute_result"
    }
   ],
   "source": [
    "model.eval()\n",
    "outputs = []\n",
    "labels = []\n",
    "from tqdm.notebook import tqdm\n",
    "\n",
    "for i in tqdm(range(len(eval_dataset))):\n",
    "    torch.cuda.empty_cache()\n",
    "    input_ids = torch.tensor(eval_dataset[i][\"input_ids\"])\n",
    "    attention_mask = torch.tensor(eval_dataset[i][\"attention_mask\"])\n",
    "    model.to(device)\n",
    "    outputs.append(model.forward([input_ids.view(1, -1).to(device), attention_mask.view(1, -1).to(device)])[\"logits\"].view(-1).detach().cpu())\n",
    "    labels.append(eval_dataset[i][\"labels\"].detach().cpu())\n",
    "    \n",
    "quadratic_weighted_kappa(np.array(torch.stack(outputs).view(-1).numpy()), np.array(labels))"
   ]
  },
  {
   "cell_type": "code",
   "execution_count": null,
   "id": "109f50a6-4644-4418-a2ea-274e83f2ecb4",
   "metadata": {},
   "outputs": [],
   "source": []
  },
  {
   "cell_type": "code",
   "execution_count": 7,
   "id": "04e0c69a-5db3-4af4-a39e-782beaa3301f",
   "metadata": {},
   "outputs": [
    {
     "data": {
      "application/vnd.jupyter.widget-view+json": {
       "model_id": "c7a2285f314548fcbea1e75809900fe4",
       "version_major": 2,
       "version_minor": 0
      },
      "text/plain": [
       "  0%|          | 0/3462 [00:00<?, ?it/s]"
      ]
     },
     "metadata": {},
     "output_type": "display_data"
    },
    {
     "name": "stderr",
     "output_type": "stream",
     "text": [
      "/tmp/ipykernel_3212413/3770462044.py:8: UserWarning: To copy construct from a tensor, it is recommended to use sourceTensor.clone().detach() or sourceTensor.clone().detach().requires_grad_(True), rather than torch.tensor(sourceTensor).\n",
      "  input_ids = torch.tensor(eval_dataset[i][\"input_ids\"])\n",
      "/tmp/ipykernel_3212413/3770462044.py:9: UserWarning: To copy construct from a tensor, it is recommended to use sourceTensor.clone().detach() or sourceTensor.clone().detach().requires_grad_(True), rather than torch.tensor(sourceTensor).\n",
      "  attention_mask = torch.tensor(eval_dataset[i][\"attention_mask\"])\n"
     ]
    },
    {
     "data": {
      "text/plain": [
       "0.6251746414975754"
      ]
     },
     "execution_count": 7,
     "metadata": {},
     "output_type": "execute_result"
    }
   ],
   "source": [
    "model.eval()\n",
    "outputs = []\n",
    "labels = []\n",
    "from tqdm.notebook import tqdm\n",
    "\n",
    "for i in tqdm(range(len(eval_dataset))):\n",
    "    torch.cuda.empty_cache()\n",
    "    input_ids = torch.tensor(eval_dataset[i][\"input_ids\"])\n",
    "    attention_mask = torch.tensor(eval_dataset[i][\"attention_mask\"])\n",
    "    model.to(device)\n",
    "    outputs.append(model.forward([input_ids.view(1, -1).to(device), attention_mask.view(1, -1).to(device)])[\"logits\"].view(-1).detach().cpu())\n",
    "    labels.append(eval_dataset[i][\"labels\"].detach().cpu())\n",
    "    \n",
    "quadratic_weighted_kappa(np.array(torch.stack(outputs).view(-1).numpy()), np.array(labels))"
   ]
  },
  {
   "cell_type": "code",
   "execution_count": 7,
   "id": "4b1d059d-d5a4-4e36-83aa-c63458d56824",
   "metadata": {},
   "outputs": [
    {
     "data": {
      "application/vnd.jupyter.widget-view+json": {
       "model_id": "3d9a11d5182c4e3884d0fa816d188341",
       "version_major": 2,
       "version_minor": 0
      },
      "text/plain": [
       "  0%|          | 0/3462 [00:00<?, ?it/s]"
      ]
     },
     "metadata": {},
     "output_type": "display_data"
    },
    {
     "name": "stderr",
     "output_type": "stream",
     "text": [
      "/tmp/ipykernel_3207095/3770462044.py:8: UserWarning: To copy construct from a tensor, it is recommended to use sourceTensor.clone().detach() or sourceTensor.clone().detach().requires_grad_(True), rather than torch.tensor(sourceTensor).\n",
      "  input_ids = torch.tensor(eval_dataset[i][\"input_ids\"])\n",
      "/tmp/ipykernel_3207095/3770462044.py:9: UserWarning: To copy construct from a tensor, it is recommended to use sourceTensor.clone().detach() or sourceTensor.clone().detach().requires_grad_(True), rather than torch.tensor(sourceTensor).\n",
      "  attention_mask = torch.tensor(eval_dataset[i][\"attention_mask\"])\n"
     ]
    },
    {
     "data": {
      "text/plain": [
       "0.5006832845877135"
      ]
     },
     "execution_count": 7,
     "metadata": {},
     "output_type": "execute_result"
    }
   ],
   "source": [
    "model.eval()\n",
    "outputs = []\n",
    "labels = []\n",
    "from tqdm.notebook import tqdm\n",
    "\n",
    "for i in tqdm(range(len(eval_dataset))):\n",
    "    torch.cuda.empty_cache()\n",
    "    input_ids = torch.tensor(eval_dataset[i][\"input_ids\"])\n",
    "    attention_mask = torch.tensor(eval_dataset[i][\"attention_mask\"])\n",
    "    model.to(device)\n",
    "    outputs.append(model.forward([input_ids.view(1, -1).to(device), attention_mask.view(1, -1).to(device)])[\"logits\"].view(-1).detach().cpu())\n",
    "    labels.append(eval_dataset[i][\"labels\"].detach().cpu())\n",
    "    \n",
    "quadratic_weighted_kappa(np.array(torch.stack(outputs).view(-1).numpy()), np.array(labels))"
   ]
  },
  {
   "cell_type": "markdown",
   "id": "cfb88ea3-a6b5-49f9-aade-2ffa2865c9fd",
   "metadata": {},
   "source": [
    "# Inference"
   ]
  },
  {
   "cell_type": "code",
   "execution_count": 17,
   "id": "f94752e3-e7be-42c0-b4f8-371d3f845e1c",
   "metadata": {},
   "outputs": [
    {
     "data": {
      "application/vnd.jupyter.widget-view+json": {
       "model_id": "b0686221ef584819ae0867acce1a3a3a",
       "version_major": 2,
       "version_minor": 0
      },
      "text/plain": [
       "  0%|          | 0/3462 [00:00<?, ?it/s]"
      ]
     },
     "metadata": {},
     "output_type": "display_data"
    },
    {
     "name": "stderr",
     "output_type": "stream",
     "text": [
      "/tmp/ipykernel_3204656/3770462044.py:8: UserWarning: To copy construct from a tensor, it is recommended to use sourceTensor.clone().detach() or sourceTensor.clone().detach().requires_grad_(True), rather than torch.tensor(sourceTensor).\n",
      "  input_ids = torch.tensor(eval_dataset[i][\"input_ids\"])\n",
      "/tmp/ipykernel_3204656/3770462044.py:9: UserWarning: To copy construct from a tensor, it is recommended to use sourceTensor.clone().detach() or sourceTensor.clone().detach().requires_grad_(True), rather than torch.tensor(sourceTensor).\n",
      "  attention_mask = torch.tensor(eval_dataset[i][\"attention_mask\"])\n"
     ]
    },
    {
     "data": {
      "text/plain": [
       "0.4859277485054321"
      ]
     },
     "execution_count": 17,
     "metadata": {},
     "output_type": "execute_result"
    },
    {
     "name": "stderr",
     "output_type": "stream",
     "text": [
      "[rank: 0] Received SIGTERM: 15\n"
     ]
    }
   ],
   "source": [
    "model.eval()\n",
    "outputs = []\n",
    "labels = []\n",
    "from tqdm.notebook import tqdm\n",
    "\n",
    "for i in tqdm(range(len(eval_dataset))):\n",
    "    torch.cuda.empty_cache()\n",
    "    input_ids = torch.tensor(eval_dataset[i][\"input_ids\"])\n",
    "    attention_mask = torch.tensor(eval_dataset[i][\"attention_mask\"])\n",
    "    model.to(device)\n",
    "    outputs.append(model.forward([input_ids.view(1, -1).to(device), attention_mask.view(1, -1).to(device)])[\"logits\"].view(-1).detach().cpu())\n",
    "    labels.append(eval_dataset[i][\"labels\"].detach().cpu())\n",
    "    \n",
    "quadratic_weighted_kappa(np.array(torch.stack(outputs).view(-1).numpy()), np.array(labels))"
   ]
  },
  {
   "cell_type": "code",
   "execution_count": 21,
   "id": "0b81a473-dd55-4b32-bd53-17321f71cb2c",
   "metadata": {},
   "outputs": [
    {
     "data": {
      "text/plain": [
       "0.8964944649446493"
      ]
     },
     "execution_count": 21,
     "metadata": {},
     "output_type": "execute_result"
    }
   ],
   "source": [
    "from sklearn.metrics import roc_auc_score, accuracy_score\n",
    "roc_auc_score(np.array(torch.stack(outputs).view(-1).clip(0, 1).round()), np.array(labels))"
   ]
  },
  {
   "cell_type": "code",
   "execution_count": 7,
   "id": "366dd5b6-2cde-40ab-9463-fa5f0e071e5b",
   "metadata": {},
   "outputs": [
    {
     "name": "stderr",
     "output_type": "stream",
     "text": [
      "/home/jovyan/.local/share/virtualenvs/ptls-experiments-w-dEu3oS/lib/python3.8/site-packages/huggingface_hub/file_download.py:1132: FutureWarning: `resume_download` is deprecated and will be removed in version 1.0.0. Downloads always resume when possible. If you want to force a new download, use `force_download=True`.\n",
      "  warnings.warn(\n"
     ]
    }
   ],
   "source": [
    "from transformers import AutoModelForSequenceClassification, AutoConfig\n",
    "\n",
    "config = AutoConfig.from_pretrained(\"microsoft/deberta-v3-large\", num_labels=1)\n",
    "model = AutoModelForSequenceClassification.from_config(config)"
   ]
  },
  {
   "cell_type": "code",
   "execution_count": 11,
   "id": "3a96bcd7-00ae-4a90-928a-657ae49e9316",
   "metadata": {},
   "outputs": [
    {
     "data": {
      "text/plain": [
       "(435062785, 435062785, 0)"
      ]
     },
     "execution_count": 11,
     "metadata": {},
     "output_type": "execute_result"
    }
   ],
   "source": [
    "def count_parameters(model):\n",
    "    total_params = 0\n",
    "    trainable_params = 0\n",
    "    non_trainable_params = 0\n",
    "    \n",
    "    for param in model.parameters():\n",
    "        num_params = param.numel()\n",
    "        total_params += num_params\n",
    "        if param.requires_grad:\n",
    "            trainable_params += num_params\n",
    "        else:\n",
    "            non_trainable_params += num_params\n",
    "    \n",
    "    return total_params, trainable_params, non_trainable_params\n",
    "\n",
    "count_parameters(model)"
   ]
  },
  {
   "cell_type": "code",
   "execution_count": 13,
   "id": "005b22d0-6675-49f0-a0dd-4d7ff92a3162",
   "metadata": {},
   "outputs": [
    {
     "name": "stdout",
     "output_type": "stream",
     "text": [
      "Parameter containing:\n",
      "tensor([[ 0.0000,  0.0000,  0.0000,  ...,  0.0000,  0.0000,  0.0000],\n",
      "        [ 0.0028,  0.0034,  0.0229,  ...,  0.0012,  0.0209,  0.0178],\n",
      "        [ 0.0026, -0.0028,  0.0164,  ..., -0.0067, -0.0393, -0.0014],\n",
      "        ...,\n",
      "        [ 0.0245, -0.0192, -0.0128,  ..., -0.0124,  0.0143, -0.0277],\n",
      "        [ 0.0004,  0.0377,  0.0035,  ..., -0.0172, -0.0182, -0.0259],\n",
      "        [ 0.0106,  0.0037,  0.0092,  ...,  0.0034, -0.0110,  0.0128]],\n",
      "       requires_grad=True)\n"
     ]
    }
   ],
   "source": [
    "for x in model.parameters():\n",
    "    print(x)\n",
    "    break"
   ]
  },
  {
   "cell_type": "code",
   "execution_count": 18,
   "id": "1d68c554-8351-4b78-9642-fdad3557a817",
   "metadata": {},
   "outputs": [
    {
     "data": {
      "text/plain": [
       "torch.Size([128100, 1024])"
      ]
     },
     "execution_count": 18,
     "metadata": {},
     "output_type": "execute_result"
    }
   ],
   "source": [
    "x.shape"
   ]
  },
  {
   "cell_type": "code",
   "execution_count": 22,
   "id": "6739c526-a1d6-4fc6-8769-1a0a0740991b",
   "metadata": {},
   "outputs": [
    {
     "data": {
      "text/plain": [
       "(array([ 10.,  35., 100., 189., 241., 247., 129.,  55.,  14.,   4.]),\n",
       " array([-0.05829219, -0.04588486, -0.03347753, -0.02107021, -0.00866288,\n",
       "         0.00374445,  0.01615178,  0.02855911,  0.04096644,  0.05337377,\n",
       "         0.06578109], dtype=float32),\n",
       " <BarContainer object of 10 artists>)"
      ]
     },
     "execution_count": 22,
     "metadata": {},
     "output_type": "execute_result"
    },
    {
     "data": {
      "image/png": "[encoded data removed]",
      "text/plain": [
       "<Figure size 640x480 with 1 Axes>"
      ]
     },
     "metadata": {},
     "output_type": "display_data"
    }
   ],
   "source": [
    "import matplotlib.pyplot as plt\n",
    "\n",
    "plt.hist(x[1].detach().numpy())"
   ]
  },
  {
   "cell_type": "code",
   "execution_count": 12,
   "id": "65c2a95d-e7cd-4443-bd8a-9157dfa22e1a",
   "metadata": {},
   "outputs": [],
   "source": [
    "from transformers import DebertaV2Config, DebertaV2ForSequenceClassification\n",
    "\n",
    "config = DebertaV2Config(\n",
    "    vocab_size=50265,\n",
    "    hidden_size=1024,  \n",
    "    num_hidden_layers=24, \n",
    "    num_attention_heads=16,  \n",
    "    intermediate_size=4096, \n",
    "    hidden_dropout_prob=0.1,\n",
    "    attention_probs_dropout_prob=0.1,  \n",
    "    max_position_embeddings=512,  \n",
    "    num_labels=1 \n",
    ")\n",
    "\n",
    "model = DebertaV2ForSequenceClassification(config)"
   ]
  },
  {
   "cell_type": "code",
   "execution_count": 15,
   "id": "3b746ad9-3446-4651-8c19-d661b86fca6c",
   "metadata": {},
   "outputs": [
    {
     "name": "stdout",
     "output_type": "stream",
     "text": [
      "Parameter containing:\n",
      "tensor([[ 0.0000,  0.0000,  0.0000,  ...,  0.0000,  0.0000,  0.0000],\n",
      "        [ 0.0062, -0.0027,  0.0407,  ...,  0.0082,  0.0234,  0.0230],\n",
      "        [ 0.0059,  0.0092,  0.0018,  ...,  0.0167,  0.0238, -0.0246],\n",
      "        ...,\n",
      "        [-0.0213,  0.0036, -0.0148,  ...,  0.0348, -0.0047, -0.0048],\n",
      "        [ 0.0017,  0.0295,  0.0041,  ...,  0.0368, -0.0217,  0.0081],\n",
      "        [ 0.0166,  0.0071,  0.0162,  ..., -0.0041,  0.0122, -0.0135]],\n",
      "       requires_grad=True)\n"
     ]
    }
   ],
   "source": [
    "for x in model.parameters():\n",
    "    print(x)\n",
    "    break"
   ]
  },
  {
   "cell_type": "code",
   "execution_count": 8,
   "id": "d9849ced-d101-46dc-a467-534b2151f04c",
   "metadata": {},
   "outputs": [
    {
     "name": "stdout",
     "output_type": "stream",
     "text": [
      "Parameter containing:\n",
      "tensor([[ 0.0000,  0.0000,  0.0000,  ...,  0.0000,  0.0000,  0.0000],\n",
      "        [-0.0009, -0.0084, -0.0066,  ..., -0.0246, -0.0026,  0.0105],\n",
      "        [ 0.0206, -0.0222, -0.0371,  ..., -0.0195, -0.0020,  0.0002],\n",
      "        ...,\n",
      "        [-0.0033,  0.0029,  0.0011,  ..., -0.0144, -0.0105, -0.0093],\n",
      "        [-0.0034,  0.0048,  0.0181,  ..., -0.0046, -0.0012,  0.0095],\n",
      "        [ 0.0014, -0.0200,  0.0061,  ...,  0.0116,  0.0065,  0.0126]],\n",
      "       requires_grad=True)\n"
     ]
    }
   ],
   "source": [
    "for x in model.parameters():\n",
    "    print(x)\n",
    "    break"
   ]
  },
  {
   "cell_type": "code",
   "execution_count": 7,
   "id": "694d4a75-b75c-428b-9d34-6138263de943",
   "metadata": {},
   "outputs": [],
   "source": [
    "import torch.nn as nn\n",
    "for layer in model.modules():\n",
    "    if isinstance(layer, (nn.Linear, nn.Conv2d)):\n",
    "        layer.reset_parameters()"
   ]
  },
  {
   "cell_type": "code",
   "execution_count": 13,
   "id": "887e1166-c08f-4260-a496-e7c92886b01c",
   "metadata": {},
   "outputs": [
    {
     "name": "stdout",
     "output_type": "stream",
     "text": [
      "Parameter containing:\n",
      "tensor([[ 0.0000,  0.0000,  0.0000,  ...,  0.0000,  0.0000,  0.0000],\n",
      "        [-0.0559, -0.0171, -0.0196,  ...,  0.0035, -0.0144,  0.0009],\n",
      "        [-0.0011, -0.0214,  0.0100,  ...,  0.0022, -0.0129, -0.0379],\n",
      "        ...,\n",
      "        [-0.0237, -0.0113, -0.0145,  ..., -0.0184,  0.0649, -0.0160],\n",
      "        [-0.0212,  0.0064,  0.0005,  ...,  0.0097, -0.0330, -0.0540],\n",
      "        [-0.0481, -0.0020, -0.0056,  ...,  0.0354, -0.0093,  0.0429]],\n",
      "       device='cuda:0', requires_grad=True)\n"
     ]
    }
   ],
   "source": [
    "for x in model.parameters():\n",
    "    print(x)\n",
    "    break"
   ]
  },
  {
   "cell_type": "code",
   "execution_count": 12,
   "id": "c0b85478-e1ea-4bd9-95e2-a2c9226952ac",
   "metadata": {},
   "outputs": [],
   "source": [
    "import math\n",
    "for layer in model.modules():\n",
    "    if isinstance(layer, nn.Linear):\n",
    "        nn.init.kaiming_uniform_(layer.weight, a=math.sqrt(5))\n",
    "        if layer.bias is not None:\n",
    "            fan_in, _ = nn.init._calculate_fan_in_and_fan_out(layer.weight)\n",
    "            bound = 1 / math.sqrt(fan_in)\n",
    "            nn.init.uniform_(layer.bias, -bound, bound)\n",
    "    elif isinstance(layer, nn.Conv2d):\n",
    "        nn.init.kaiming_uniform_(layer.weight, mode='fan_in', nonlinearity='relu')\n",
    "        if layer.bias is not None:\n",
    "            nn.init.constant_(layer.bias, 0)\n",
    "    elif isinstance(layer, nn.Embedding):\n",
    "        nn.init.normal_(layer.weight, mean=0, std=layer.embedding_dim ** -0.5)\n",
    "        if layer.padding_idx is not None:\n",
    "            nn.init.constant_(layer.weight[layer.padding_idx], 0)"
   ]
  },
  {
   "cell_type": "code",
   "execution_count": 25,
   "id": "9b5b20e7-1c7f-41bc-9863-42bc9554d6c9",
   "metadata": {},
   "outputs": [
    {
     "data": {
      "text/plain": [
       "(array([   0.,    0.,    0.,    0.,    0., 1024.,    0.,    0.,    0.,\n",
       "           0.]),\n",
       " array([-0.5, -0.4, -0.3, -0.2, -0.1,  0. ,  0.1,  0.2,  0.3,  0.4,  0.5],\n",
       "       dtype=float32),\n",
       " <BarContainer object of 10 artists>)"
      ]
     },
     "execution_count": 25,
     "metadata": {},
     "output_type": "execute_result"
    },
    {
     "data": {
      "image/png": "[encoded data removed]",
      "text/plain": [
       "<Figure size 640x480 with 1 Axes>"
      ]
     },
     "metadata": {},
     "output_type": "display_data"
    }
   ],
   "source": [
    "import matplotlib.pyplot as plt\n",
    "\n",
    "plt.hist(x[0].detach().numpy())"
   ]
  },
  {
   "cell_type": "code",
   "execution_count": 35,
   "id": "da41041b-f18a-40f1-a13e-0c9016564a3c",
   "metadata": {},
   "outputs": [],
   "source": [
    "dataset = pd.read_csv(\"src/data/titles_to_categories.csv\")"
   ]
  },
  {
   "cell_type": "code",
   "execution_count": 36,
   "id": "6a599766-c693-417b-9132-2ee398157997",
   "metadata": {},
   "outputs": [
    {
     "name": "stderr",
     "output_type": "stream",
     "text": [
      "/tmp/ipykernel_3190855/149341752.py:14: SettingWithCopyWarning: \n",
      "A value is trying to be set on a copy of a slice from a DataFrame.\n",
      "Try using .loc[row_indexer,col_indexer] = value instead\n",
      "\n",
      "See the caveats in the documentation: https://pandas.pydata.org/pandas-docs/stable/user_guide/indexing.html#returning-a-view-versus-a-copy\n",
      "  filtered_dataset['target'] = filtered_dataset['category_name'].apply(\n"
     ]
    }
   ],
   "source": [
    "dataset = pd.read_csv(\"src/data/titles_to_categories.csv\")\n",
    "target_categories = [\n",
    "    \"Sports & Outdoors\",\n",
    "    \"Baby\",\n",
    "    \"Men's Shoes\",\n",
    "    \"Women's Handbags\",\n",
    "    \"Women's Shoes\",\n",
    "    \"Handmade Jewellery\",\n",
    "    \"Men's Watches\",\n",
    "    \"Boys\"\n",
    "]\n",
    "\n",
    "filtered_dataset = dataset[dataset['category_name'].isin(target_categories)]\n",
    "\n",
    "filtered_dataset['target'] = filtered_dataset['category_name'].apply(\n",
    "    lambda x: 1 if x == \"Sports & Outdoors\" else 0\n",
    ")\n",
    "\n",
    "dataset = filtered_dataset"
   ]
  },
  {
   "cell_type": "code",
   "execution_count": 40,
   "id": "7762ac61-28fb-4371-b5d5-5cd396f41471",
   "metadata": {},
   "outputs": [
    {
     "data": {
      "text/html": [
       "<div>\n",
       "<style scoped>\n",
       "    .dataframe tbody tr th:only-of-type {\n",
       "        vertical-align: middle;\n",
       "    }\n",
       "\n",
       "    .dataframe tbody tr th {\n",
       "        vertical-align: top;\n",
       "    }\n",
       "\n",
       "    .dataframe thead th {\n",
       "        text-align: right;\n",
       "    }\n",
       "</style>\n",
       "<table border=\"1\" class=\"dataframe\">\n",
       "  <thead>\n",
       "    <tr style=\"text-align: right;\">\n",
       "      <th></th>\n",
       "      <th>title</th>\n",
       "      <th>category_name</th>\n",
       "      <th>target</th>\n",
       "    </tr>\n",
       "  </thead>\n",
       "  <tbody>\n",
       "    <tr>\n",
       "      <th>40639</th>\n",
       "      <td>Men's Original Two-Tone Memory Foam Slipper</td>\n",
       "      <td>Men's Shoes</td>\n",
       "      <td>0</td>\n",
       "    </tr>\n",
       "    <tr>\n",
       "      <th>40640</th>\n",
       "      <td>mens Ansa Fix Slide Sandal</td>\n",
       "      <td>Men's Shoes</td>\n",
       "      <td>0</td>\n",
       "    </tr>\n",
       "    <tr>\n",
       "      <th>40641</th>\n",
       "      <td>Body Glide Foot Anti Blister Balm (for Candian...</td>\n",
       "      <td>Men's Shoes</td>\n",
       "      <td>0</td>\n",
       "    </tr>\n",
       "    <tr>\n",
       "      <th>40642</th>\n",
       "      <td>Slippers for Women Men Cozy Memory Foam Plush ...</td>\n",
       "      <td>Men's Shoes</td>\n",
       "      <td>0</td>\n",
       "    </tr>\n",
       "    <tr>\n",
       "      <th>40643</th>\n",
       "      <td>squish Shoe Covers Disposable Non Slip, 100 Pa...</td>\n",
       "      <td>Men's Shoes</td>\n",
       "      <td>0</td>\n",
       "    </tr>\n",
       "    <tr>\n",
       "      <th>...</th>\n",
       "      <td>...</td>\n",
       "      <td>...</td>\n",
       "      <td>...</td>\n",
       "    </tr>\n",
       "    <tr>\n",
       "      <th>5249804</th>\n",
       "      <td>Women's Slingback Low Heels Closed Toe Chunky ...</td>\n",
       "      <td>Women's Shoes</td>\n",
       "      <td>0</td>\n",
       "    </tr>\n",
       "    <tr>\n",
       "      <th>5249805</th>\n",
       "      <td>Women's Textured Knit Clog Slipper</td>\n",
       "      <td>Women's Shoes</td>\n",
       "      <td>0</td>\n",
       "    </tr>\n",
       "    <tr>\n",
       "      <th>5249806</th>\n",
       "      <td>Women's Arlon Heeled Sandal</td>\n",
       "      <td>Women's Shoes</td>\n",
       "      <td>0</td>\n",
       "    </tr>\n",
       "    <tr>\n",
       "      <th>5249807</th>\n",
       "      <td>Women's Roaming Multi Strap Sandals</td>\n",
       "      <td>Women's Shoes</td>\n",
       "      <td>0</td>\n",
       "    </tr>\n",
       "    <tr>\n",
       "      <th>5249808</th>\n",
       "      <td>Unisex Arizona Sandal Soft Footbed Sandcastle ...</td>\n",
       "      <td>Women's Shoes</td>\n",
       "      <td>0</td>\n",
       "    </tr>\n",
       "  </tbody>\n",
       "</table>\n",
       "<p>931995 rows × 3 columns</p>\n",
       "</div>"
      ],
      "text/plain": [
       "                                                     title  category_name  \\\n",
       "40639          Men's Original Two-Tone Memory Foam Slipper    Men's Shoes   \n",
       "40640                           mens Ansa Fix Slide Sandal    Men's Shoes   \n",
       "40641    Body Glide Foot Anti Blister Balm (for Candian...    Men's Shoes   \n",
       "40642    Slippers for Women Men Cozy Memory Foam Plush ...    Men's Shoes   \n",
       "40643    squish Shoe Covers Disposable Non Slip, 100 Pa...    Men's Shoes   \n",
       "...                                                    ...            ...   \n",
       "5249804  Women's Slingback Low Heels Closed Toe Chunky ...  Women's Shoes   \n",
       "5249805                 Women's Textured Knit Clog Slipper  Women's Shoes   \n",
       "5249806                        Women's Arlon Heeled Sandal  Women's Shoes   \n",
       "5249807                Women's Roaming Multi Strap Sandals  Women's Shoes   \n",
       "5249808  Unisex Arizona Sandal Soft Footbed Sandcastle ...  Women's Shoes   \n",
       "\n",
       "         target  \n",
       "40639         0  \n",
       "40640         0  \n",
       "40641         0  \n",
       "40642         0  \n",
       "40643         0  \n",
       "...         ...  \n",
       "5249804       0  \n",
       "5249805       0  \n",
       "5249806       0  \n",
       "5249807       0  \n",
       "5249808       0  \n",
       "\n",
       "[931995 rows x 3 columns]"
      ]
     },
     "execution_count": 40,
     "metadata": {},
     "output_type": "execute_result"
    },
    {
     "name": "stderr",
     "output_type": "stream",
     "text": [
      "[rank: 0] Received SIGTERM: 15\n",
      "[rank: 0] Received SIGTERM: 15\n"
     ]
    }
   ],
   "source": [
    "filtered_dataset"
   ]
  },
  {
   "cell_type": "code",
   "execution_count": 6,
   "id": "1b92df82-9207-49eb-aada-bce352333040",
   "metadata": {},
   "outputs": [
    {
     "name": "stderr",
     "output_type": "stream",
     "text": [
      "/home/jovyan/.local/share/virtualenvs/ptls-experiments-w-dEu3oS/lib/python3.8/site-packages/huggingface_hub/file_download.py:1132: FutureWarning: `resume_download` is deprecated and will be removed in version 1.0.0. Downloads always resume when possible. If you want to force a new download, use `force_download=True`.\n",
      "  warnings.warn(\n"
     ]
    },
    {
     "data": {
      "application/vnd.jupyter.widget-view+json": {
       "model_id": "394c392b15a54a1aa0cbfe5942017e20",
       "version_major": 2,
       "version_minor": 0
      },
      "text/plain": [
       "pytorch_model.bin:   0%|          | 0.00/241M [00:00<?, ?B/s]"
      ]
     },
     "metadata": {},
     "output_type": "display_data"
    },
    {
     "name": "stderr",
     "output_type": "stream",
     "text": [
      "/home/jovyan/.local/share/virtualenvs/ptls-experiments-w-dEu3oS/lib/python3.8/site-packages/torch/_utils.py:776: UserWarning: TypedStorage is deprecated. It will be removed in the future and UntypedStorage will be the only storage class. This should only matter to you if you are using storages directly.  To access UntypedStorage directly, use tensor.untyped_storage() instead of tensor.storage()\n",
      "  return self.fget.__get__(instance, owner)()\n",
      "Some weights of DebertaV2ForSequenceClassification were not initialized from the model checkpoint at microsoft/deberta-v3-xsmall and are newly initialized: ['classifier.bias', 'classifier.weight', 'pooler.dense.bias', 'pooler.dense.weight']\n",
      "You should probably TRAIN this model on a down-stream task to be able to use it for predictions and inference.\n"
     ]
    },
    {
     "name": "stdout",
     "output_type": "stream",
     "text": [
      "Обучаемых параметров: 147456\n",
      "Необучаемых параметров: 70830722\n"
     ]
    }
   ],
   "source": [
    "import torch\n",
    "from transformers import AutoModelForSequenceClassification, AutoConfig\n",
    "from peft import get_peft_model, LoraConfig\n",
    "\n",
    "# Загрузка модели\n",
    "model_name = \"microsoft/deberta-v3-xsmall\"\n",
    "config = AutoConfig.from_pretrained(model_name)\n",
    "model = AutoModelForSequenceClassification.from_pretrained(model_name, config=config)\n",
    "\n",
    "# Настройка LoRA\n",
    "lora_config = LoraConfig(r=8, lora_alpha=16, lora_dropout=0.01, bias=\"none\", inference_mode=False)\n",
    "model = get_peft_model(model, lora_config)\n",
    "\n",
    "# Функция для подсчета обучаемых и необучаемых параметров\n",
    "def count_parameters(model):\n",
    "    trainable_params = 0\n",
    "    non_trainable_params = 0\n",
    "    for param in model.parameters():\n",
    "        if param.requires_grad:\n",
    "            trainable_params += param.numel()\n",
    "        else:\n",
    "            non_trainable_params += param.numel()\n",
    "    return trainable_params, non_trainable_params\n",
    "\n",
    "# Подсчет параметров\n",
    "trainable_params, non_trainable_params = count_parameters(model)\n",
    "\n",
    "print(f\"Обучаемых параметров: {trainable_params}\")\n",
    "print(f\"Необучаемых параметров: {non_trainable_params}\")\n"
   ]
  },
  {
   "cell_type": "code",
   "execution_count": null,
   "id": "7190a631-deb9-45d0-b9ca-e1990a654214",
   "metadata": {},
   "outputs": [],
   "source": []
  }
 ],
 "metadata": {
  "kernelspec": {
   "display_name": "ptls-experiments",
   "language": "python",
   "name": "ptls-experiments"
  },
  "language_info": {
   "codemirror_mode": {
    "name": "ipython",
    "version": 3
   },
   "file_extension": ".py",
   "mimetype": "text/x-python",
   "name": "python",
   "nbconvert_exporter": "python",
   "pygments_lexer": "ipython3",
   "version": "3.8.18"
  }
 },
 "nbformat": 4,
 "nbformat_minor": 5
}
